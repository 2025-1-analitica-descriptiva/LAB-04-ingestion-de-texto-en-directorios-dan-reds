{
 "cells": [
  {
   "cell_type": "markdown",
   "id": "32264dc5",
   "metadata": {},
   "source": [
    "## Pregunta 1"
   ]
  },
  {
   "cell_type": "markdown",
   "id": "6b1daa59",
   "metadata": {},
   "source": [
    "    \"\"\"\n",
    "    La información requerida para este laboratio esta almacenada en el\n",
    "    archivo \"files/input.zip\" ubicado en la carpeta raíz.\n",
    "    Descomprima este archivo.\n",
    "\n",
    "    Como resultado se creara la carpeta \"input\" en la raiz del\n",
    "    repositorio, la cual contiene la siguiente estructura de archivos:\n",
    "\n",
    "\n",
    "    ```\n",
    "    train/\n",
    "        negative/\n",
    "            0000.txt\n",
    "            0001.txt\n",
    "            ...\n",
    "        positive/\n",
    "            0000.txt\n",
    "            0001.txt\n",
    "            ...\n",
    "        neutral/\n",
    "            0000.txt\n",
    "            0001.txt\n",
    "            ...\n",
    "    test/\n",
    "        negative/\n",
    "            0000.txt\n",
    "            0001.txt\n",
    "            ...\n",
    "        positive/\n",
    "            0000.txt\n",
    "            0001.txt\n",
    "            ...\n",
    "        neutral/\n",
    "            0000.txt\n",
    "            0001.txt\n",
    "            ...\n",
    "    ```\n",
    "\n",
    "    A partir de esta informacion escriba el código que permita generar\n",
    "    dos archivos llamados \"train_dataset.csv\" y \"test_dataset.csv\". Estos\n",
    "    archivos deben estar ubicados en la carpeta \"output\" ubicada en la raiz\n",
    "    del repositorio.\n",
    "\n",
    "    Estos archivos deben tener la siguiente estructura:\n",
    "\n",
    "    * phrase: Texto de la frase. hay una frase por cada archivo de texto.\n",
    "    * sentiment: Sentimiento de la frase. Puede ser \"positive\", \"negative\"\n",
    "      o \"neutral\". Este corresponde al nombre del directorio donde se\n",
    "      encuentra ubicado el archivo.\n",
    "\n",
    "    Cada archivo tendria una estructura similar a la siguiente:\n",
    "\n",
    "    ```\n",
    "    |    | phrase                                                                                                                                                                 | target   |\n",
    "    |---:|:-----------------------------------------------------------------------------------------------------------------------------------------------------------------------|:---------|\n",
    "    |  0 | Cardona slowed her vehicle , turned around and returned to the intersection , where she called 911                                                                     | neutral  |\n",
    "    |  1 | Market data and analytics are derived from primary and secondary research                                                                                              | neutral  |\n",
    "    |  2 | Exel is headquartered in Mantyharju in Finland                                                                                                                         | neutral  |\n",
    "    |  3 | Both operating profit and net sales for the three-month period increased , respectively from EUR16 .0 m and EUR139m , as compared to the corresponding quarter in 2006 | positive |\n",
    "    |  4 | Tampere Science Parks is a Finnish company that owns , leases and builds office properties and it specialises in facilities for technology-oriented businesses         | neutral  |\n",
    "    ```\n",
    "\n",
    "\n",
    "    \"\"\""
   ]
  },
  {
   "cell_type": "code",
   "execution_count": 33,
   "id": "89437027",
   "metadata": {},
   "outputs": [],
   "source": [
    "import os\n",
    "import zipfile\n",
    "import os.path\n",
    "import glob\n",
    "import csv"
   ]
  },
  {
   "cell_type": "code",
   "execution_count": null,
   "id": "66c2486c",
   "metadata": {},
   "outputs": [],
   "source": [
    "# with zipfile.ZipFile('../files/input.zip', 'r') as zip_ref:\n",
    "#     zip_ref.extractall('../files')\n",
    "# if not os.path.exists('../file/output'):\n",
    "#     os.makedirs('../files/output')"
   ]
  },
  {
   "cell_type": "code",
   "execution_count": null,
   "id": "54577f34",
   "metadata": {},
   "outputs": [
    {
     "name": "stdout",
     "output_type": "stream",
     "text": [
      "Jan. 6 -- Ford is struggling in the face of slowing truck and SUV sales and a surfeit of up-to-date , gotta-have cars \n",
      "( ADPnews ) - Feb 3 , 2010 - Finland-based steel maker Rautaruukki Oyj ( HEL : RTRKS ) , or Ruukki , said today it slipped to a larger-than-expected pretax loss of EUR 46 million ( USD 64.5 m ) in the fourth quarter of 2009 from \n",
      "In Q2 of 2009 , profit before taxes amounted to EUR 13.6 mn , down from EUR 26.8 mn in Q2 of 2008 \n",
      "ADPnews - Jul 17 , 2009 - Finland-based steel maker Rautaruukki Oyj Ruukki HEL : RTRKS said today it slipped to a net loss of EUR 184 million USD 259.7 m for the first half of 2009 from a net profit of EUR \n",
      "Salonen added that data shows producers ' pulp inventories in North America are declining . \n",
      "In the third quarter of fiscal 2008 Efore swung to a net loss of EUR 400,000 versus a net profit of EUR 200,000 for the corresponding period of fiscal 2007 \n",
      "Konecranes Oyj KCR1V FH fell 5.5 percent to 20.51 euros , the biggest fall since June \n",
      "Acando AB ( ACANB SS ) fell 8.9 percent to 13.35 kronor , the lowest close since Dec. 11 \n",
      "In Q1 of 2009 , the company 's operating loss totalled EUR 0.3 mn , compared to a profit of EUR 3.6 mn in Q1 of 2008 \n",
      "Operating loss amounted to EUR 0.9 mn in the first half of 2006 compared to a profit of EUR 0.5 mn in the first half of 2005 \n",
      "Pretax loss totalled EUR 162.3 mn compared to a profit of EUR 253.5 mn in 2007 \n",
      "Finnish retail software developer Aldata Solution Oyj reported a net loss of 11.7 mln euro $ 17.2 mln for 2007 versus a net profit of 2.5 mln euro $ 3.7 mln for 2006 \n",
      "In October , UPM reported a third-quarter net loss of euro86 million $ 110 million compared with a net profit of euro120 million in 2007 \n",
      "Operating result showed a loss of EUR 2.9 mn , while a year before , it showed a profit of EUR 0.6 mn \n",
      "Salcomp Oyj , the Finnish maker of mobile phone chargers , Monday posted a EUR1 .49 million loss in the second quarter compared with a 1.70 million profit in the same period the previous year \n",
      "The operating loss amounted to EUR 0.8 mn , compared to a profit of EUR 3.9 mn a year earlier \n",
      "TietoEnator was down 1.13 pct to 18.38 , extending recent lows after last week 's second-quarter report , dealers said \n",
      "`` Those uncertainties cloud the long-term outlook . '\n",
      "Finnair 's passenger load factor , which measures the number of sold seats as a share of all available seats , dropped by 1.3 percentage points to 76.7 % in September \n",
      "Frost sold shares for $ 19 million at $ 6.06-7 .12 per share , compared with Friday 's high of $ 11.33 and low of $ 10.14 \n",
      "Glaston 's net profit for the third quarter of 2007 dropped to 2.4 mln euro ( $ 3.5 mln ) from 3.5 mln euro ( $ 5.1 mln ) for the corresponding period of 2006 \n",
      "Net cash flow from operating activities was a negative EUR 3.1 mn , compared to EUR 23.3 mn in the corresponding period in 2009 \n",
      "Nordic banks have already had to write off sizable loans in Latvia , with Swedbank , Nordea , DnB NOR and SEB reporting combined losses in excess of $ 1.35 billion in the period 2007 to 2010 against a backdrop of near economic meltdown in Latvia \n",
      "Operating profit excluding non-recurring items amounted to EUR 40.6 mn , down from EUR 57.3 mn year-on-year \n",
      "Swedbank 's shares have been hardest hit of the Swedish banks by the ongoing international financial crisis \n",
      "A survey conducted by Taloustutkimus for Sampo Life shows that companies are badly prepared to losing key staff members \n",
      "Kone shares dropped 4.1 percent to  x20ac 43 US$ 55.77 in Helsinki \n",
      "Tallink Silja attributes the significant drop to problems with the booking system that was taken into operation in October , the sale of trailer ferry ` Sky Wind ' and the route between Stockholm and Riga , which has won passengers from the Helsinki-Stockholm route \n",
      "`` Adjustment to the fall in price level , in contrast , has been less effective \n",
      "17 March 2011 - Goldman Sachs estimates that there are negative prospects for the Norwegian mobile operations of Norway 's Telenor ASA OSL : TEL and Sweden 's TeliaSonera AB STO : TLSN in the short term \n",
      "Finnair believes the strike will cause it daily net losses in excess of EUR 2mn due to canceled reservations and passenger re-routing \n",
      "HELSINKI Thomson Financial - Shares closed little changed , with Cargotec and Huhtamaki dropping sharply on disappointing second-quarter reports \n",
      "The group 's operating loss was EUR 0.8 mn , down from a profit of EUR 2.5 mn in 2004 \n",
      "It generated an operating loss of EUR 96.3 mn , down from a profit of EUR 43.9 mn \n",
      "Budapest , August 10 MTI - Finnish electronics maker Elcoteq will lay off 700 workers at its plants in Pecs S Hungary at the end of September because of falling orders , communications director for Elcoteq 's local unit , Zoltan Krippl told MTI on Monday \n",
      "Finnair 's Tallinn-based subsidiary , Aero AS , carried 23,335 passengers , a decline of 60.8 % , on routes between Helsinki and the Baltic capitals and within Southern Finland \n",
      "Finnish plumbing and heating systems supplier Uponor 's net sales in continuing business operations decreased to EUR 249.1 mn in July-September 2008 , compared to EUR 262.1 mn in the third quarter of 2007 \n",
      "Consolidated pretax profit decreased by 69.2 % to EUR 41.0 mn from EUR 133.1 mn in 2007 \n",
      "Earnings per share ( EPS ) in the first half of 2007 amounted to EUR0 .29 , down from EUR0 .40 year ago \n",
      "Insurer Axa ( PAR : CS ) slid by 5.35 % to EUR 14.15 , after Citigroup and ING slashed their targets on the stock \n",
      "( ADP News ) - Feb 11 , 2009 - Finnish wood products technology supplier Raute Oyj ( HEL : RUTAV ) said today its net profit decreased to EUR 4.7 million ( USD 6.1 m ) for 2008 from EUR 6.6 million for 2007 \n",
      "Net sales decreased to EUR 91.6 mn from EUR 109mn in the corresponding period in 2005 \n",
      "Net sales fell by 33 % from the third quarter of 2008 to EUR 130.5 mn \n",
      "Operating profit fell from EUR 7.9 mn in the second quarter of 2005 to EUR 5.1 mn in the second quarter of 2006 \n",
      "Operating profit fell to EUR 23.26 mn from EUR 32.86 mn \n",
      "Operating profit fell to EUR 6.2 mn from EUR 8.5 mn in the third quarter of 2007 \n",
      "Pretax profit decreased by 37 % to EUR 193.1 mn from EUR 305.6 mn \n",
      "Pretax profit totaled EUR 9.0 mn , down from EUR 36.3 mn in 2007 \n",
      "Revenue in the quarter fell 8 percent to ( EURO ) 2.4 billion compared to a year earlier \n",
      "SRV lowered its net sales estimate for the whole of 2008 due to uncertainties in housing sales \n",
      "The company confirmed its estimate for lower revenue for the whole 2009 than the year-ago EUR93 .9 m as given in the interim report on 5 August 2009 \n",
      "The Department Store Division 's sales fell by 8.6 % to EUR 140.2 mn \n",
      "Alma Media 's operating profit amounted to EUR 11.9 mn , down from EUR 15.0 mn a year earlier \n",
      "Commission income fell to EUR 4.6 mn from EUR 5.1 mn in the corresponding period in 2007 \n",
      "Export declined by 6 percent to 16.4 million liters \n",
      "Group EBIT for the first half was EUR13 .6 m US$ 17.8 m , falling short of the EUR22 .5 m it posted for the same period of 2009 \n",
      "However , the company saw its net profit for the third quarter down to EUR 1.4 million from EUR 1.5 million for the corresponding period of 2009 \n",
      "In food trade , sales amounted to EUR320 .1 m , a decline of 1.1 % \n",
      "Operating profit totaled EUR 9.4 mn , down from EUR 11.7 mn in 2004 \n",
      "Revenue was slightly down , at  x20ac 495 million $ 634 million , compared to  x20ac 497 million a year earlier \n",
      "The total capital of funds managed by the bank decreased by 28 % to EUR 284mn by the end of September 2008 \n",
      "According to the company , in addition to normal seasonal fluctuation the market situation has weakened during autumn 2008 \n",
      "The net sales of the whole fiscal year 2008 will be lower than in 2007 and operating profit is estimated to be negative \n",
      "Sales at the unit slumped last year after the industry was hit by poor snowfall in the major resorts in the winter of 2006-07 \n",
      "Due to the rapid decrease in net sales , personnel reductions have been carried out on a wider scale than initially expected \n",
      "Qualcomm estimated a first-quarter profit between 46 and 50 cents a share , excluding certain items , below the analyst estimate of 61 cents a share \n",
      "Operating margin , however , slipped to 14.4 % from 15.1 % , dragged down by a poor performance in enterprise solutions \n"
     ]
    }
   ],
   "source": [
    "# debemos capturar la primera y unica fila de cada archivo, primero separado por dataset, para negative, positive y neutral.\n",
    "for file in glob.glob('../files/input/test/negative/*.txt'):\n",
    "    with open(file, 'r', encoding='utf-8') as textos:\n",
    "        print(textos.read())\n",
    "# Verificamos si abren los archivos"
   ]
  },
  {
   "cell_type": "code",
   "execution_count": 48,
   "id": "59bfac6e",
   "metadata": {},
   "outputs": [],
   "source": [
    "# Ahora debemos crear una serie nueva y capturar cada entrada en esa serie\n",
    "# Para esto se crea una lista con doccionarios para cada entrada\n",
    "df = []\n",
    "for file in glob.glob('../files/input/test/negative/*.txt'):\n",
    "    with open(file, 'r', encoding='utf-8') as textos:\n",
    "        for f in textos:\n",
    "            box = {\n",
    "                'phrase': f.strip(),\n",
    "                'sentiment': os.path.dirname(file).split('/')[4]\n",
    "            }\n",
    "            df.append(box)"
   ]
  },
  {
   "cell_type": "code",
   "execution_count": 51,
   "id": "59385714",
   "metadata": {},
   "outputs": [],
   "source": [
    "with open('../files/output/test_negative.csv', 'w', newline='') as f:\n",
    "    columnas = df[0].keys()\n",
    "    writer = csv.DictWriter(f, fieldnames=columnas)\n",
    "    writer.writeheader()     # Escribe encabezados\n",
    "    writer.writerows(df)  # Escribe todas las filas"
   ]
  },
  {
   "cell_type": "code",
   "execution_count": 53,
   "id": "184321ca",
   "metadata": {},
   "outputs": [],
   "source": [
    "# Ahora el reto es hacer los mismo para las tres carpetas dentro de test y llamar el output test_dataset.csv\n",
    "# Para eso debemos iterar sobre las carpetas dentro de test/: \n",
    "# negative/*.txt \n",
    "# positive/*.txt \n",
    "# neutral/*.txt\n",
    "# Para eso creamos un bucle afuera que recorra una lista con los nombres de las carpetas\n",
    "\n",
    "carpetas = ['negative', 'positive', 'neutral']\n",
    "df = []\n",
    "for carpeta in carpetas:\n",
    "    for file in glob.glob(f'../files/input/test/{carpeta}/*.txt'):\n",
    "        with open(file, 'r', encoding='utf-8') as textos:\n",
    "            for f in textos:\n",
    "                box = {\n",
    "                    'phrase': f.strip(),\n",
    "                    'sentiment': carpeta\n",
    "                }\n",
    "                df.append(box)\n",
    "with open('../files/output/test_dataset.csv', 'w', newline='') as f:\n",
    "    columnas = df[0].keys()\n",
    "    writer = csv.DictWriter(f, fieldnames=columnas)\n",
    "    writer.writeheader()     # Escribe encabezados\n",
    "    writer.writerows(df)"
   ]
  },
  {
   "cell_type": "code",
   "execution_count": 62,
   "id": "45da043f",
   "metadata": {},
   "outputs": [],
   "source": [
    "# Completo\n",
    "import os\n",
    "import zipfile\n",
    "import os.path\n",
    "import glob\n",
    "import csv\n",
    "\n",
    "inputs = ['test', 'train']\n",
    "carpetas = ['negative', 'positive', 'neutral']\n",
    "for input in inputs:\n",
    "    df = []  # reiniciar la lista para cada conjunto (test, train)\n",
    "    for carpeta in carpetas:\n",
    "        for file in glob.glob(f'../files/input/{input}/{carpeta}/*.txt'):\n",
    "            with open(file, 'r', encoding='utf-8') as textos:\n",
    "                for f in textos:\n",
    "                    box = {\n",
    "                        'phrase': f.strip(),\n",
    "                        'target': carpeta\n",
    "                    }\n",
    "                    df.append(box)\n",
    "\n",
    "    with open(f'../files/output/{input}_dataset.csv', 'w', newline='', encoding='utf-8') as f:\n",
    "        columnas = df[0].keys()\n",
    "        writer = csv.DictWriter(f, fieldnames=columnas)\n",
    "        writer.writeheader()\n",
    "        writer.writerows(df)"
   ]
  },
  {
   "cell_type": "code",
   "execution_count": 63,
   "id": "7471a1d6",
   "metadata": {},
   "outputs": [],
   "source": [
    "# chekeamos si cumple el test\n",
    "import pandas as pd\n",
    "\n",
    "train_dataset = pd.read_csv(\"../files/output/train_dataset.csv\")"
   ]
  },
  {
   "cell_type": "code",
   "execution_count": 65,
   "id": "87d93da1",
   "metadata": {},
   "outputs": [
    {
     "data": {
      "application/vnd.microsoft.datawrangler.viewer.v0+json": {
       "columns": [
        {
         "name": "target",
         "rawType": "object",
         "type": "string"
        },
        {
         "name": "count",
         "rawType": "int64",
         "type": "integer"
        }
       ],
       "ref": "169c321c-1364-45fd-a3f9-e78d541dfc57",
       "rows": [
        [
         "neutral",
         "1117"
        ],
        [
         "positive",
         "458"
        ],
        [
         "negative",
         "236"
        ]
       ],
       "shape": {
        "columns": 1,
        "rows": 3
       }
      },
      "text/plain": [
       "target\n",
       "neutral     1117\n",
       "positive     458\n",
       "negative     236\n",
       "Name: count, dtype: int64"
      ]
     },
     "execution_count": 65,
     "metadata": {},
     "output_type": "execute_result"
    }
   ],
   "source": [
    "train_dataset['target'].value_counts()"
   ]
  }
 ],
 "metadata": {
  "kernelspec": {
   "display_name": ".venv",
   "language": "python",
   "name": "python3"
  },
  "language_info": {
   "codemirror_mode": {
    "name": "ipython",
    "version": 3
   },
   "file_extension": ".py",
   "mimetype": "text/x-python",
   "name": "python",
   "nbconvert_exporter": "python",
   "pygments_lexer": "ipython3",
   "version": "3.11.9"
  }
 },
 "nbformat": 4,
 "nbformat_minor": 5
}
